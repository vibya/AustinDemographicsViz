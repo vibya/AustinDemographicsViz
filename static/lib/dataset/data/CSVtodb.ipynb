{
 "cells": [
  {
   "cell_type": "code",
   "execution_count": 5,
   "metadata": {},
   "outputs": [],
   "source": [
    "import sys\n",
    "import pandas as pd\n",
    "import pymongo\n",
    "import json\n",
    "import os"
   ]
  },
  {
   "cell_type": "code",
   "execution_count": 8,
   "metadata": {},
   "outputs": [],
   "source": [
    "def import_content(filepath):\n",
    "    mng_client = pymongo.MongoClient('localhost', 27017)\n",
    "    mng_db = mng_client['austinCrimeStats']\n",
    "    collection_name = 'projects'\n",
    "    db_cm = mng_db[collection_name]\n",
    "#     cdir = os.path.dirname(filepath)\n",
    "#     file_res = os.path.join(cdir, filepath)\n",
    "    file_res = os.path.join(filepath)\n",
    "\n",
    "    data = pd.read_csv(file_res)\n",
    "    data_json = json.loads(data.to_json(orient='records'))\n",
    "    db_cm.remove()\n",
    "    db_cm.insert(data_json)"
   ]
  },
  {
   "cell_type": "code",
   "execution_count": 9,
   "metadata": {},
   "outputs": [
    {
     "name": "stderr",
     "output_type": "stream",
     "text": [
      "C:\\Users\\mywor\\AppData\\Local\\conda\\conda\\envs\\PythonData\\lib\\site-packages\\ipykernel\\__main__.py:12: DeprecationWarning: remove is deprecated. Use delete_one or delete_many instead.\n",
      "C:\\Users\\mywor\\AppData\\Local\\conda\\conda\\envs\\PythonData\\lib\\site-packages\\ipykernel\\__main__.py:13: DeprecationWarning: insert is deprecated. Use insert_one or insert_many instead.\n"
     ]
    }
   ],
   "source": [
    "if __name__ == \"__main__\":\n",
    "  filepath = 'Annual_Crime_Dataset_2015_1.csv'\n",
    "  import_content(filepath)"
   ]
  },
  {
   "cell_type": "code",
   "execution_count": null,
   "metadata": {},
   "outputs": [],
   "source": []
  }
 ],
 "metadata": {
  "kernelspec": {
   "display_name": "Python [conda env:PythonData]",
   "language": "python",
   "name": "conda-env-PythonData-py"
  },
  "language_info": {
   "codemirror_mode": {
    "name": "ipython",
    "version": 3
   },
   "file_extension": ".py",
   "mimetype": "text/x-python",
   "name": "python",
   "nbconvert_exporter": "python",
   "pygments_lexer": "ipython3",
   "version": "3.6.4"
  }
 },
 "nbformat": 4,
 "nbformat_minor": 2
}
